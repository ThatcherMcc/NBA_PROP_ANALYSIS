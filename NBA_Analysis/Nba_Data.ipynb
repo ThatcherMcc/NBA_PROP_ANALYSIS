{
 "cells": [
  {
   "cell_type": "code",
   "execution_count": 1,
   "id": "fbb55744-6e04-42b3-b7ec-c8e1eeb58c30",
   "metadata": {},
   "outputs": [],
   "source": [
    "# import initialization\n",
    "\n",
    "import torch\n",
    "import pandas as pd\n",
    "import numpy as np"
   ]
  },
  {
   "cell_type": "code",
   "execution_count": 2,
   "id": "2fa84e6a-4d8b-4a1a-90ea-ed81b56f76ea",
   "metadata": {},
   "outputs": [
    {
     "name": "stdout",
     "output_type": "stream",
     "text": [
      "   MATCHUP    SPREAD  PROP_LINE   PTS\n",
      "0      MIN  MIN +4.5       30.5  O 34\n",
      "1     @MIN  MIN -2.0       29.5  U 22\n",
      "2      MIN  DEN -4.5       29.5  O 40\n",
      "3     @MIN  DEN +3.5       27.5  O 35\n",
      "4     @MIN  DEN +3.5       28.5  U 24\n",
      "..     ...       ...        ...   ...\n",
      "86    @MIN  MIN +2.5       26.5  U 25\n",
      "87     UTH  UTH +8.5       27.5  U 27\n",
      "88    @OKC  DEN -3.5       26.5  O 28\n",
      "89    @MEM  MEM +6.0       26.5  U 22\n",
      "90     LAL  DEN -4.5       25.5  O 29\n",
      "\n",
      "[91 rows x 4 columns]\n"
     ]
    }
   ],
   "source": [
    "# input CSV file\n",
    "df = pd.read_csv(r\"C:\\Users\\Player1\\Desktop\\Creations\\dataScience\\NBA_Python_Data_Project\\Csv_Data\\Jokic_Data.csv\")\n",
    "# selecting the columns we want to see\n",
    "df = df[['MATCHUP','SPREAD','PROP_LINE', 'PTS']]\n",
    "print(df)"
   ]
  },
  {
   "cell_type": "code",
   "execution_count": 3,
   "id": "671b9a11-331a-4d04-b17e-e8ef9343a528",
   "metadata": {},
   "outputs": [],
   "source": [
    "# Basic getters for simple counts/ whole numbers\n",
    "def GetSize(df):\n",
    "    df = df[['PTS']]\n",
    "    size = df.index.size\n",
    "    return size\n",
    "\n",
    "# returns the number of overs\n",
    "def GetOverCount(df):\n",
    "    count_O = (df['PTS'].str.contains('O').sum())\n",
    "    return count_O\n",
    "\n",
    "# returns the number of unders\n",
    "def GetUnderCount(df):\n",
    "    count_U = (df['PTS'].str.contains('U').sum())\n",
    "    return count_U\n",
    "\n",
    "def GetSpreadPositiveCount(df):\n",
    "    positive = (df['SPREAD'].str.contains('+').sum())\n",
    "    return positive\n",
    "\n",
    "def getSpreadNegativeCount(df):\n",
    "    negative = (df['SPREAD'].str.contains('-').sum())\n",
    "    return negative"
   ]
  },
  {
   "cell_type": "code",
   "execution_count": 4,
   "id": "78dc3663-b4d2-4e3e-858d-0cccc125a22f",
   "metadata": {},
   "outputs": [],
   "source": [
    "# percent getters\n",
    "\n",
    "# returns the percent of times the player hit the over\n",
    "def GetOverPercent(df):\n",
    "    size = GetSize(df)\n",
    "    count_O = GetOverCount(df)\n",
    "    prop = count_O/size\n",
    "    return 100*(prop if prop > 0 else 0)\n",
    "\n",
    "# returns the percent of times the player hit the under\n",
    "def GetUnderPercent(df):\n",
    "    size = GetSize(df)\n",
    "    count_U = GetUnderCount(df)\n",
    "    prop = count_U/size\n",
    "    return 100*(prop if prop > 0 else 0)"
   ]
  },
  {
   "cell_type": "code",
   "execution_count": 20,
   "id": "1ddfadc3-3f82-4fa3-97e1-8cb04c639e0f",
   "metadata": {},
   "outputs": [],
   "source": [
    "# odds based \n",
    "# odds in favor of players team and they hit over\n",
    "def GetOverWithPositiveOdds(df):\n",
    "    df1 = df[df['PTS'].str.contains('O') & \n",
    "        (\n",
    "            df['SPREAD'].str.contains('DEN \\-') | \n",
    "            (df['SPREAD'].str.contains('\\+') & ~df['SPREAD'].str.contains('DEN'))\n",
    "        )]\n",
    "    df2 = df[df['SPREAD'].str.contains('DEN \\-') | \n",
    "            (df['SPREAD'].str.contains('\\+') & ~df['SPREAD'].str.contains('DEN'))]\n",
    "    size = GetSize(df2)\n",
    "    num = GetSize(df1)\n",
    "    return 100*(num/size)\n",
    "    \n",
    "def GetOverWithNegativeOdds(df):\n",
    "    df1 = df[df['PTS'].str.contains('O') & \n",
    "        (\n",
    "            df['SPREAD'].str.contains('DEN \\+') | \n",
    "            (df['SPREAD'].str.contains('\\-') & ~df['SPREAD'].str.contains('DEN'))\n",
    "        )]\n",
    "    df2 =  df[df['SPREAD'].str.contains('DEN \\+') | \n",
    "            (df['SPREAD'].str.contains('\\-') & ~df['SPREAD'].str.contains('DEN'))]\n",
    "    size = GetSize(df2)\n",
    "    num = GetSize(df1)\n",
    "    return 100*(num/size)\n",
    "    \n",
    "def GetUnderWithPositiveOdds(df):\n",
    "    df1 = df[df['PTS'].str.contains('U') & \n",
    "        (\n",
    "            df['SPREAD'].str.contains('DEN \\-') | \n",
    "            (df['SPREAD'].str.contains('\\+') & ~df['SPREAD'].str.contains('DEN'))\n",
    "        )]\n",
    "    df2 = df[df['SPREAD'].str.contains('DEN \\-') | \n",
    "            (df['SPREAD'].str.contains('\\+') & ~df['SPREAD'].str.contains('DEN'))]\n",
    "    size = GetSize(df2)\n",
    "    num = GetSize(df1)\n",
    "    return 100*(num/size)\n",
    "    \n",
    "def GetUnderWithNegativeOdds(df):\n",
    "    df1 = df[df['PTS'].str.contains('U') & \n",
    "        (\n",
    "            df['SPREAD'].str.contains('DEN \\+') | \n",
    "            (df['SPREAD'].str.contains('\\-') & ~df['SPREAD'].str.contains('DEN'))\n",
    "        )]\n",
    "    df2 =  df[df['SPREAD'].str.contains('DEN \\+') | \n",
    "            (df['SPREAD'].str.contains('\\-') & ~df['SPREAD'].str.contains('DEN'))]    \n",
    "    size = GetSize(df2)\n",
    "    num = GetSize(df1)\n",
    "    return 100*(num/size)"
   ]
  },
  {
   "cell_type": "code",
   "execution_count": 19,
   "id": "f3a32723-66b8-4789-9608-af64adf516f1",
   "metadata": {},
   "outputs": [],
   "source": [
    "# location based\n",
    "def GetOverWhenHome(df):\n",
    "    df1 = df[df['PTS'].str.contains('O') & ~df['MATCHUP'].str.contains('@')]\n",
    "    df2 = df[~df['MATCHUP'].str.contains('@')]\n",
    "    size = GetSize(df2)\n",
    "    num = GetSize(df1)\n",
    "    return 100*(num/size)\n",
    "def GetUnderWhenHome(df):\n",
    "    df1 = df[df['PTS'].str.contains('U') & ~df['MATCHUP'].str.contains('@')]\n",
    "    df2 = df[~df['MATCHUP'].str.contains('@')]\n",
    "    size = GetSize(df2)\n",
    "    num = GetSize(df1)\n",
    "    return 100*(num/size)\n",
    "\n",
    "def GetOverWhenAway(df):\n",
    "    df1 = df[df['PTS'].str.contains('O') & df['MATCHUP'].str.contains('@')]\n",
    "    df2 = df[df['MATCHUP'].str.contains('@')]\n",
    "    size = GetSize(df2)\n",
    "    num = GetSize(df1)\n",
    "    return 100*(num/size)\n",
    "def GetUnderWhenAway(df):\n",
    "    df1 = df[df['PTS'].str.contains('U') & df['MATCHUP'].str.contains('@')]\n",
    "    df2 = df[df['MATCHUP'].str.contains('@')]\n",
    "    size = GetSize(df2)\n",
    "    num = GetSize(df1)\n",
    "    return 100*(num/size)"
   ]
  },
  {
   "cell_type": "code",
   "execution_count": 17,
   "id": "626925da-73e4-4563-9cd6-045a0118d468",
   "metadata": {},
   "outputs": [
    {
     "name": "stdout",
     "output_type": "stream",
     "text": [
      "47.92%\n",
      "50.00%\n",
      "51.16%\n",
      "48.84%\n"
     ]
    }
   ],
   "source": [
    "print(f\"{GetOverWhenHome(df):.2f}%\")\n",
    "print(f\"{GetUnderWhenHome(df):.2f}%\")\n",
    "print(f\"{GetOverWhenAway(df):.2f}%\")\n",
    "print(f\"{GetUnderWhenAway(df):.2f}%\")"
   ]
  },
  {
   "cell_type": "code",
   "execution_count": 7,
   "id": "20cb7d2c-a3c3-4160-a062-36a144cee769",
   "metadata": {},
   "outputs": [
    {
     "name": "stdout",
     "output_type": "stream",
     "text": [
      "46.75%\n",
      "51.95%\n",
      "\n",
      "64.29%\n",
      "35.71%\n"
     ]
    }
   ],
   "source": [
    "print(f\"{GetOverWithPositiveOdds(df):.2f}%\")\n",
    "print(f\"{GetUnderWithPositiveOdds(df):.2f}%\")\n",
    "print()\n",
    "print(f\"{GetOverWithNegativeOdds(df):.2f}%\")\n",
    "print(f\"{GetUnderWithNegativeOdds(df):.2f}%\")"
   ]
  },
  {
   "cell_type": "code",
   "execution_count": 8,
   "id": "050bd551-2afc-443b-87e2-c70318d4068d",
   "metadata": {},
   "outputs": [
    {
     "name": "stdout",
     "output_type": "stream",
     "text": [
      "Player hit the over: 45 times\n",
      "Player hit the under: 45 times\n",
      "Over Percent: 49.45%\n",
      "Under Percent: 49.45%\n"
     ]
    }
   ],
   "source": [
    "print(f\"Player hit the over: {GetOverCount(df)} times\")\n",
    "print(f\"Player hit the under: {GetUnderCount(df)} times\")\n",
    "print(f\"Over Percent: {GetOverPercent(df):.2f}%\")\n",
    "print(f\"Under Percent: {GetUnderPercent(df):.2f}%\")"
   ]
  }
 ],
 "metadata": {
  "kernelspec": {
   "display_name": "Python 3 (ipykernel)",
   "language": "python",
   "name": "python3"
  },
  "language_info": {
   "codemirror_mode": {
    "name": "ipython",
    "version": 3
   },
   "file_extension": ".py",
   "mimetype": "text/x-python",
   "name": "python",
   "nbconvert_exporter": "python",
   "pygments_lexer": "ipython3",
   "version": "3.10.14"
  }
 },
 "nbformat": 4,
 "nbformat_minor": 5
}
