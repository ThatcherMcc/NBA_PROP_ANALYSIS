{
 "cells": [
  {
   "cell_type": "code",
   "execution_count": 1,
   "id": "dad6266c-8dbe-4fe3-818a-7a37a1032c58",
   "metadata": {},
   "outputs": [],
   "source": [
    "from selenium import webdriver\n",
    "from bs4 import BeautifulSoup\n",
    "import requests\n",
    "import pandas as pd\n",
    "from io import StringIO\n",
    "import os"
   ]
  },
  {
   "cell_type": "code",
   "execution_count": 2,
   "id": "7509303c-bb9a-470a-9c8b-e56092edcb2a",
   "metadata": {},
   "outputs": [],
   "source": [
    "# setting the years needed and url to look at player\n",
    "years = list(range(2017, 2026))\n",
    "url = 'https://www.bettingpros.com/nba/props/nikola-jokic/points/'"
   ]
  },
  {
   "cell_type": "code",
   "execution_count": 25,
   "id": "e512f704-524a-4508-99e9-cb74a2d66b61",
   "metadata": {},
   "outputs": [
    {
     "name": "stdout",
     "output_type": "stream",
     "text": [
      "Line: 28.5, Pts: U20\n",
      "Line: 27.5, Pts: O35\n",
      "Line: 27.5, Pts: U27\n",
      "Line: 26.5, Pts: U20\n",
      "Line: 27.5, Pts: U24\n",
      "Line: 29.5, Pts: U10\n",
      "Line: 29.5, Pts: U19\n",
      "Line: 28.5, Pts: O35\n",
      "Line: 31.5, Pts: O46\n",
      "Line: 30.5, Pts: O41\n",
      "Line: 30.5, Pts: U23\n",
      "Line: 29.5, Pts: O36\n",
      "Line: 28.5, Pts: O37\n",
      "Line: 27.5, Pts: U27\n",
      "Line: 29.5, Pts: U25\n",
      "Line: 30.5, Pts: O32\n",
      "Line: 28.5, Pts: U27\n",
      "Line: 28.5, Pts: O34\n",
      "Line: 28.5, Pts: U20\n",
      "Line: 29.5, Pts: U16\n",
      "Line: 31.5, Pts: O48\n",
      "Line: 31.5, Pts: O56\n",
      "Line: 27.5, Pts: U27\n",
      "Line: 28.5, Pts: O38\n",
      "Line: 27.5, Pts: O28\n",
      "Line: 28.5, Pts: O30\n",
      "Line: 27.5, Pts: U22\n",
      "Line: 27.5, Pts: O34\n",
      "Line: 26.5, Pts: O33\n",
      "Line: 27.5, Pts: O37\n",
      "Line: 26.5, Pts: O30\n",
      "Line: 26.5, Pts: U23\n",
      "Line: 29.5, Pts: U28\n",
      "Line: 29.5, Pts: U27\n",
      "Line: 27.5, Pts: U26\n",
      "Line: NL, Pts: 29\n",
      "Line: 26.5, Pts: O40\n",
      "Line: 25.5, Pts: O41\n",
      "Line: 26.5, Pts: U16\n"
     ]
    }
   ],
   "source": [
    "from selenium import webdriver\n",
    "from bs4 import BeautifulSoup\n",
    "import time\n",
    "\n",
    "# Set up the driver (make sure you have the appropriate driver, such as chromedriver for Chrome)\n",
    "driver = webdriver.Chrome()\n",
    "\n",
    "# URL of the page with the table\n",
    "url = \"https://www.bettingpros.com/nba/props/nikola-jokic/points/\"\n",
    "\n",
    "# Navigate to the page\n",
    "driver.get(url)\n",
    "\n",
    "# Optionally, wait for the page to load fully\n",
    "time.sleep(5)\n",
    "\n",
    "# Locate the tbody using the XPath\n",
    "tbody_element = driver.find_element(\"xpath\", '/html/body/div[1]/div/div/div[1]/div/main/div/div/div[2]/section[4]/div/div[2]/table/tbody')\n",
    "\n",
    "# Get the HTML of the tbody\n",
    "tbody_html = tbody_element.get_attribute('outerHTML')\n",
    "\n",
    "# Parse the HTML with BeautifulSoup\n",
    "soup = BeautifulSoup(tbody_html, 'html.parser')\n",
    "\n",
    "# Now you can extract the rows and columns from the tbody\n",
    "lines = []\n",
    "pts = []\n",
    "\n",
    "# Define column indices\n",
    "LINE_INDEX = 5  # Assuming Line is the first column (index 0)\n",
    "PTS_INDEX = 6  # Assuming Pts is the second column (index 1)\n",
    "\n",
    "# Iterate over each row in tbody with class \"table-row\"\n",
    "for row in soup.find_all('tr', class_='table-row'):\n",
    "    # Get all columns (td elements) in the row\n",
    "    columns = row.find_all('td')\n",
    "    \n",
    "    if columns:  # Ensure there are columns\n",
    "        line = columns[LINE_INDEX].get_text(strip=True)  # Replace LINE_INDEX with the correct index\n",
    "        pts_data = columns[PTS_INDEX].get_text(strip=True)  # Replace PTS_INDEX with the correct index\n",
    "\n",
    "        # Append to lists\n",
    "        lines.append(line)\n",
    "        pts.append(pts_data)\n",
    "\n",
    "# Print the extracted data\n",
    "for line, pt in zip(lines, pts):\n",
    "    print(f\"Line: {line}, Pts: {pt}\")\n",
    "\n",
    "# Don't forget to close the driver\n",
    "driver.quit()\n"
   ]
  },
  {
   "cell_type": "code",
   "execution_count": null,
   "id": "3d71f8fe-79a6-4487-b623-4bddf8a4fbfe",
   "metadata": {},
   "outputs": [],
   "source": [
    "# letsssss goooooooo"
   ]
  }
 ],
 "metadata": {
  "kernelspec": {
   "display_name": "Python 3 (ipykernel)",
   "language": "python",
   "name": "python3"
  },
  "language_info": {
   "codemirror_mode": {
    "name": "ipython",
    "version": 3
   },
   "file_extension": ".py",
   "mimetype": "text/x-python",
   "name": "python",
   "nbconvert_exporter": "python",
   "pygments_lexer": "ipython3",
   "version": "3.10.14"
  }
 },
 "nbformat": 4,
 "nbformat_minor": 5
}
