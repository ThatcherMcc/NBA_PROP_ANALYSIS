{
 "cells": [
  {
   "cell_type": "code",
   "execution_count": 1,
   "id": "dad6266c-8dbe-4fe3-818a-7a37a1032c58",
   "metadata": {},
   "outputs": [],
   "source": [
    "from selenium import webdriver\n",
    "from bs4 import BeautifulSoup\n",
    "import requests\n",
    "import pandas as pd\n",
    "from io import StringIO\n",
    "import os\n",
    "import time"
   ]
  },
  {
   "cell_type": "code",
   "execution_count": 2,
   "id": "7509303c-bb9a-470a-9c8b-e56092edcb2a",
   "metadata": {},
   "outputs": [],
   "source": [
    "# setting the years needed and url to look at player\n",
    "years = list(range(2017, 2026))\n",
    "player_name = \"jokicni\"\n",
    "year = 2025\n",
    "url = 'https://www.bettingpros.com/nba/props/nikola-jokic/points/'"
   ]
  },
  {
   "cell_type": "code",
   "execution_count": 3,
   "id": "e512f704-524a-4508-99e9-cb74a2d66b61",
   "metadata": {},
   "outputs": [],
   "source": [
    "# Set up the driver (make sure you have the appropriate driver, such as chromedriver for Chrome)\n",
    "driver = webdriver.Chrome()\n",
    "\n",
    "url = \"https://www.bettingpros.com/nba/props/nikola-jokic/points/\" # URL of the page with the table\n",
    "driver.get(url) # Navigate to the page\n",
    "\n",
    "# Optionally, wait for the page to load fully\n",
    "time.sleep(2)\n",
    "\n",
    "# Locate the tbody using the XPath\n",
    "tbody_element = driver.find_element(\"xpath\", '/html/body/div[1]/div/div/div[1]/div/main/div/div/div[2]/section[4]/div/div[2]/table/tbody')\n",
    "tbody_html = tbody_element.get_attribute('outerHTML') # Get the HTML of the tbody\n",
    "\n",
    "soup = BeautifulSoup(tbody_html, 'html.parser') # Parse the HTML with BeautifulSoup\n",
    "\n",
    "# Now you can extract the rows and columns from the tbody\n",
    "lines = []\n",
    "pts = []\n",
    "\n",
    "# Define column indices\n",
    "LINE_INDEX = 5  # Assuming Line is the first column (index 0)\n",
    "PTS_INDEX = 6  # Assuming Pts is the second column (index 1)\n",
    "\n",
    "# Iterate over each row in tbody with class \"table-row\"\n",
    "for row in soup.find_all('tr', class_='table-row'):\n",
    "    # Get all columns (td elements) in the row\n",
    "    columns = row.find_all('td')\n",
    "    \n",
    "    if columns:  # Ensure there are columns\n",
    "        line = columns[LINE_INDEX].get_text(strip=True)  # Replace LINE_INDEX with the correct index\n",
    "        pts_data = columns[PTS_INDEX].get_text(strip=True)  # Replace PTS_INDEX with the correct index\n",
    "\n",
    "        # Append to lists\n",
    "        lines.append(line)\n",
    "        pts.append(pts_data)\n",
    "# Don't forget to close the driver\n",
    "driver.quit()"
   ]
  },
  {
   "cell_type": "code",
   "execution_count": 8,
   "id": "4c22b465-efa4-4386-94ac-0a7b45e258e7",
   "metadata": {},
   "outputs": [],
   "source": [
    "lines = lines[::-1]\n",
    "pts = pts[::-1]"
   ]
  },
  {
   "cell_type": "code",
   "execution_count": 9,
   "id": "cc0a0fab-9a39-4ddf-a867-23507ecb208e",
   "metadata": {},
   "outputs": [],
   "source": [
    "prop_df = pd.DataFrame({\"Line\": lines, \"Pts\": pts})\n",
    "df = prop_df"
   ]
  },
  {
   "cell_type": "code",
   "execution_count": 10,
   "id": "89229f0d-bce7-4d2c-9bd8-a02243728e51",
   "metadata": {},
   "outputs": [],
   "source": [
    "with open(f\"DataFrames/{player_name}{year}PropDataFrame.html\", \"w+\", encoding=\"utf-8\") as f:\n",
    "    f.write(df.to_html(index = False))"
   ]
  }
 ],
 "metadata": {
  "kernelspec": {
   "display_name": "Python 3 (ipykernel)",
   "language": "python",
   "name": "python3"
  },
  "language_info": {
   "codemirror_mode": {
    "name": "ipython",
    "version": 3
   },
   "file_extension": ".py",
   "mimetype": "text/x-python",
   "name": "python",
   "nbconvert_exporter": "python",
   "pygments_lexer": "ipython3",
   "version": "3.10.14"
  }
 },
 "nbformat": 4,
 "nbformat_minor": 5
}
