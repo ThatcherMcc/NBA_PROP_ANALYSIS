{
 "cells": [
  {
   "cell_type": "code",
   "execution_count": 1,
   "id": "661a236f-afc9-4bdc-8263-c7f308e6583b",
   "metadata": {},
   "outputs": [],
   "source": [
    "from bs4 import BeautifulSoup\n",
    "import requests\n",
    "import pandas as pd\n",
    "from io import StringIO\n",
    "import os"
   ]
  },
  {
   "cell_type": "code",
   "execution_count": 2,
   "id": "ef27121d-69c0-4d81-a251-a68b613c90d7",
   "metadata": {},
   "outputs": [],
   "source": [
    "url = 'https://www.basketball-reference.com/contracts/players.html'"
   ]
  },
  {
   "cell_type": "code",
   "execution_count": 74,
   "id": "422c92f9-69f4-42c0-9fa1-f8d55cf359c3",
   "metadata": {},
   "outputs": [],
   "source": [
    "main_folder = \"CSV_Data\" \n",
    "if not os.path.exists(main_folder):\n",
    "    os.makedirs(main_folder)"
   ]
  },
  {
   "cell_type": "code",
   "execution_count": 5,
   "id": "ad4e3531-c82b-4855-8da0-22d782c2e2f7",
   "metadata": {},
   "outputs": [],
   "source": [
    "# looks up the corresponding year and creates/overwrites the html file in my JokicGameLogs folder\n",
    "try: \n",
    "    response = requests.get(url)\n",
    "    response.raise_for_status()\n",
    "except requests.exceptions.Timeout as e:\n",
    "    print(\"Request timed out:\", e)\n",
    "except requests.exceptions.RequestException as e:\n",
    "    print(\"An error occurred:\", e)\n",
    "# to write a file for each 'x'\n",
    "file_path = f\"CSV_DATA/2025PlayerNames.html\"\n",
    "with open(file_path, \"w+\", encoding=\"utf-8\") as f:\n",
    "    f.write(response.text)"
   ]
  },
  {
   "cell_type": "code",
   "execution_count": 55,
   "id": "23534cd9-044a-470d-817c-be2b1e1bdf82",
   "metadata": {},
   "outputs": [],
   "source": [
    "with open(f\"CSV_DATA/2025PlayerNames.html\", encoding=\"utf-8\") as f:\n",
    "    page = f.read()\n",
    "    soup = BeautifulSoup(page, \"html.parser\")\n",
    "    stats_table = soup.find(id=\"player-contracts\")\n",
    "    stats_df = pd.read_html(StringIO(str(stats_table)))[0]\n",
    "    df = stats_df"
   ]
  },
  {
   "cell_type": "code",
   "execution_count": 56,
   "id": "a284d72a-43c5-41cd-8db2-8a571b794e4a",
   "metadata": {},
   "outputs": [],
   "source": [
    "df.rename(columns = {\"Unnamed: 1_level_0\": \"Player_Name\"}, inplace = True)"
   ]
  },
  {
   "cell_type": "code",
   "execution_count": 59,
   "id": "47d21f97-e649-4ddf-8a5b-19bf583ab914",
   "metadata": {},
   "outputs": [],
   "source": [
    "for i in range(20, len(df), 22):  # Start from 20, step by 21\n",
    "    if i in df.index:\n",
    "        df = df.drop(i)\n",
    "        df = df.drop(i + 1)"
   ]
  },
  {
   "cell_type": "code",
   "execution_count": 73,
   "id": "db68cda3-af8a-4356-ae31-961311521a6f",
   "metadata": {},
   "outputs": [],
   "source": [
    "file_path2 = f\"CSV_DATA/2025Player_Names.csv\"\n",
    "with open(file_path2, \"w+\", encoding=\"utf-8\") as f:\n",
    "    df[\"Player_Name\"].to_csv(f, index = False)"
   ]
  }
 ],
 "metadata": {
  "kernelspec": {
   "display_name": "Python 3 (ipykernel)",
   "language": "python",
   "name": "python3"
  },
  "language_info": {
   "codemirror_mode": {
    "name": "ipython",
    "version": 3
   },
   "file_extension": ".py",
   "mimetype": "text/x-python",
   "name": "python",
   "nbconvert_exporter": "python",
   "pygments_lexer": "ipython3",
   "version": "3.10.14"
  }
 },
 "nbformat": 4,
 "nbformat_minor": 5
}
